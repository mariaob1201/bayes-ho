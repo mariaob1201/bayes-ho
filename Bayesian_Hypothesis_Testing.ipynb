{
 "cells": [
  {
   "cell_type": "markdown",
   "metadata": {},
   "source": [
    "# Bayesian Hypothesis Testing Exercise\n",
    "In this exercise, we will simulate simple materials composition experiments.\n",
    "\n",
    "Imagine an experiment where, each time you run the experiment you observe one of the elements of the material. In this example, the test material is composed of some mixture of Aluminum and Magnesium. But, you don't know the exact composition so you devise three competing hypotheses:  \n",
    "\n",
    "Hypothesis 1 (H1): The material is 75% Magnesium and 25% Aluminum  \n",
    "Hypothesis 2 (H2): The material is 50% Magnesium and 50% Aluminum  \n",
    "Hypothesis 3 (H3): The material is 25% Magnesium and 75% Aluminum  \n",
    "\n",
    "Run each block of the code below to run a set of experiments that will help you test these hypotheses. Study the code to see that you can understand how Bayes' Rule is being applied for hypothesis testing."
   ]
  },
  {
   "cell_type": "markdown",
   "metadata": {},
   "source": [
    "## Import the necessary packages"
   ]
  },
  {
   "cell_type": "code",
   "execution_count": null,
   "metadata": {
    "collapsed": true
   },
   "outputs": [],
   "source": [
    "import numpy as np"
   ]
  },
  {
   "cell_type": "markdown",
   "metadata": {},
   "source": [
    "## Initialize your priors and confidence threshold\n",
    "When you execute the following block of code, you will be prompted to enter prior probabilities for each hypothesis. Your prior probabilities should reflect your confidence in each hypothesis prior to running experiments. For example, if I do not have a strong belief in any single hypothesis I may choose to set the prior probabilities to be approximately equal, i.e. $P(H_1)=0.33$, $P(H_2)=0.33$, $P(H_3)=0.34$.  \n",
    "The prior probabilities you enter must add to 1.  \n",
    "\n",
    "Next,you will be prompted to enter an confidence threshold. This will prompt the code below to cease experiments once the posterior probability of a given hypothesis exceeds this threshold. This must be a number greater than 0 and less than 1. For example, if I set the confidence threshold equal to 0.9 then I will accept the first hypothesis whose posterior probability exceeds 0.9."
   ]
  },
  {
   "cell_type": "code",
   "execution_count": null,
   "metadata": {},
   "outputs": [],
   "source": [
    "PH1 = float(input('What is the prior probability for H1?'))\n",
    "PH2 = float(input('What is the prior probability for H2?'))\n",
    "PH3 = float(input('What is the prior probability for H3?'))\n",
    "thresh = float(input('What is your confidence threshold?'))\n",
    "\n",
    "if PH1+PH2+PH3 != 1.0:\n",
    "    raise ValueError('The total probability of all hypotheses must sum to 1.')\n",
    "if thresh >= 1.0 or thresh <= 0.0:\n",
    "    raise ValueError('Error threshold must be greater than 0 and less than 1.')"
   ]
  },
  {
   "cell_type": "markdown",
   "metadata": {},
   "source": [
    "## Initialize posterior probabilities\n",
    "The following block of code initializes the posterior probabilities. Do not modify this code."
   ]
  },
  {
   "cell_type": "code",
   "execution_count": null,
   "metadata": {
    "collapsed": true
   },
   "outputs": [],
   "source": [
    "PoH1 = 0   #Posterior probability for H1\n",
    "PoH2 = 0   #Posterior probability for H2\n",
    "PoH3 = 0   #Posterior probability for H3"
   ]
  },
  {
   "cell_type": "markdown",
   "metadata": {},
   "source": [
    "## Initialize likelihood functions\n",
    "The following block of code initializes the likelihood values. Given the hypotheses above, can you determine why the likelihood values are initialized as they are?"
   ]
  },
  {
   "cell_type": "code",
   "execution_count": null,
   "metadata": {
    "collapsed": true
   },
   "outputs": [],
   "source": [
    "PAH1 = 0.25   #Likelihood for observing aluminum given hypothesis H1\n",
    "PAH2 = 0.5    #Likelihood for observing aluminum given hypothesis H2\n",
    "PAH3 = 0.75   #Likelihood for observing aluminum given hypothesis H3\n",
    "\n",
    "PMH1 = 0.75   #Likelihood for observing magnesium given hypothesis H1\n",
    "PMH2 = 0.5    #Likelihood for observing magnesium given hypothesis H2\n",
    "PMH3 = 0.25   #Likelihood for observing magnesium given hypothesis H3"
   ]
  },
  {
   "cell_type": "markdown",
   "metadata": {},
   "source": [
    "## Initialize experiment counter\n",
    "The following block of code initializes three counters:\n",
    "1. The total number of experiments\n",
    "2. The number of experiments in which Aluminum is observed\n",
    "3. The number of experiments in which Magnesium is observed."
   ]
  },
  {
   "cell_type": "code",
   "execution_count": null,
   "metadata": {
    "collapsed": true
   },
   "outputs": [],
   "source": [
    "i = 0\n",
    "n_al = 0\n",
    "n_mg = 0"
   ]
  },
  {
   "cell_type": "markdown",
   "metadata": {},
   "source": [
    "## Run Experiments\n",
    "The following block of code executes the experiments. Each time an experiment is run, you will observe either Aluminum or Magnesium. Based on this observation, the posterior probability for each of the three hypotheses will be updated using Bayes' Rule.  \n",
    "\n",
    "After every experiment, you will be given the updated posterior probabilities. You will be prompted whether you would like to continue and run another experiment. If you type 'y', a new experiment will be run. If you type 'n', the experiments will stop.\n",
    "\n",
    "Here are some exercises to help you understand Bayes' Rule:\n",
    "- Study the code. Can you understand where Bayes' Rule is applied? Try to write out the expressions of Bayes' Rule by hand. Can you identify the section of the code that defines the true chemical composition of the material?\n",
    "- Go back to the begining and change your prior probabilities. How do these prior probabilities influence the number of experiments you need to run before you achieve a specified level of confidence?\n",
    "- Go back to the begining and change your confidence threshold. How does this confidence threshold influence the number of experiments you need to run before you converge?"
   ]
  },
  {
   "cell_type": "code",
   "execution_count": null,
   "metadata": {},
   "outputs": [],
   "source": [
    "while PoH1 < thresh and PoH2 < thresh and PoH3 < thresh:\n",
    "    \n",
    "    if i != 0:\n",
    "        another = input('Would you like to run another experiment? (y or n)')\n",
    "        if another == 'y' or another == 'Y':\n",
    "            pass\n",
    "        else:\n",
    "            print('You elected to discontinue the experiments.')\n",
    "            break\n",
    "    \n",
    "    U = np.random.rand()\n",
    "    if U <= 0.75:\n",
    "        D = 0\n",
    "        n_al = n_al+1\n",
    "    else:\n",
    "        D = 1\n",
    "        n_mg = n_mg+1\n",
    "    \n",
    "    if D == 0:\n",
    "        print('The outcome of the experiment is aluminum')\n",
    "    elif D == 1:\n",
    "        print('The outcome of the experiment is magnesium')\n",
    "    \n",
    "    \n",
    "    i = i+1;\n",
    "    print('After ' + str(i) + ' experiments you have observed...')\n",
    "    print(str(n_mg) + ': Magnesium')\n",
    "    print(str(n_al) + ': Aluminum')\n",
    "    \n",
    "    # Update Hypotheses using Bayes' Rule\n",
    "    if D == 0:\n",
    "        PoH1 = PAH1*PH1/(PAH1*PH1+PAH2*PH2+PAH3*PH3)\n",
    "        PoH2 = PAH2*PH2/(PAH1*PH1+PAH2*PH2+PAH3*PH3)\n",
    "        PoH3 = PAH3*PH3/(PAH1*PH1+PAH2*PH2+PAH3*PH3)\n",
    "    elif D == 1:\n",
    "        PoH1 = PMH1*PH1/(PMH1*PH1+PMH2*PH2+PMH3*PH3)\n",
    "        PoH2 = PMH2*PH2/(PMH1*PH1+PMH2*PH2+PMH3*PH3)\n",
    "        PoH3 = PMH3*PH3/(PMH1*PH1+PMH2*PH2+PMH3*PH3)\n",
    "    \n",
    "    print('Posterior probability of H1 = ' + str(PoH1))\n",
    "    print('Posterior probability of H2 = ' + str(PoH2))\n",
    "    print('Posterior probability of H3 = ' + str(PoH3))\n",
    "    \n",
    "    print(' ')    \n",
    "    PH1 = PoH1\n",
    "    PH2 = PoH2\n",
    "    PH3 = PoH3\n",
    "    \n",
    "if another == 'y' or another == 'Y':\n",
    "    print('You required ' + str(i) + ' experiments to test your hypothesis with ' + str(thresh*100) + '% confidence.' )\n",
    "if PoH1 > PoH2 and PoH1 > PoH3:\n",
    "    print('The experiments suggest that hypothesis H1 is true with ' + str(PoH1*100) + '% confidence.')\n",
    "if PoH2 > PoH1 and PoH2 > PoH3:\n",
    "    print('The experiments suggest that hypothesis H2 is true with ' + str(PoH2*100) + '% confidence.')\n",
    "if PoH3 > PoH1 and PoH3 > PoH2:\n",
    "    print('The experiments suggest that hypothesis H3 is true with ' + str(PoH3*100) + '% confidence.')"
   ]
  },
  {
   "cell_type": "markdown",
   "metadata": {},
   "source": [
    "## Work on your own\n",
    "Add code blocks below to write your own code or modify the code blocks above. Feel free to explore Bayes' Rule and hypothesis testing in new ways. Here are some ideas:\n",
    "- Can you compare hypotheses using the concepts discussed in the video \"Testing Multiple Hypotheses\"?\n",
    "- Introduce new hypotheses and see if you can test them.  \n",
    "\n",
    "If you do something fun or interesting, share it with the rest of the class!\n"
   ]
  },
  {
   "cell_type": "code",
   "execution_count": null,
   "metadata": {
    "collapsed": true
   },
   "outputs": [],
   "source": []
  }
 ],
 "metadata": {
  "kernelspec": {
   "display_name": "Python 3",
   "language": "python",
   "name": "python3"
  },
  "language_info": {
   "codemirror_mode": {
    "name": "ipython",
    "version": 3
   },
   "file_extension": ".py",
   "mimetype": "text/x-python",
   "name": "python",
   "nbconvert_exporter": "python",
   "pygments_lexer": "ipython3",
   "version": "3.7.6"
  }
 },
 "nbformat": 4,
 "nbformat_minor": 2
}
